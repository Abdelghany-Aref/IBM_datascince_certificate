{
 "cells": [
  {
   "cell_type": "markdown",
   "id": "a15c3102-d3a1-45aa-962b-2ceb66d90b8f",
   "metadata": {},
   "source": [
    "# Data Science Tools and Ecosystem"
   ]
  },
  {
   "cell_type": "markdown",
   "id": "a894295e-53f6-4fe0-841c-3f891e9a1abf",
   "metadata": {},
   "source": [
    "In this notebook, Data Science Tools and Ecosystem are summarized."
   ]
  },
  {
   "cell_type": "markdown",
   "id": "360ff0a5-85aa-4c22-a784-241f686b4cc6",
   "metadata": {},
   "source": [
    "**objectives:**\n",
    "- list popular languages that Data Scientists use are\n",
    "- list commonly used libraries used by Data Scientists include\n",
    "- list Data Scince Toosl\n",
    "- list evaluating arithmetic expressions in Python\n",
    "- list simple arithmetic expression to multiply then add integers\n",
    "- converts 200 minutes to houres by dividing by 60\n"
   ]
  },
  {
   "cell_type": "markdown",
   "id": "5056db57-7360-473b-8034-1615a3cf2567",
   "metadata": {},
   "source": [
    "Some of the popular languages that Data Scientists use are:\n",
    "1. Pyhton\n",
    "2. R\n",
    "3. scala\n",
    "4. java"
   ]
  },
  {
   "cell_type": "markdown",
   "id": "4a9703bb-54ed-4b61-96d2-a8ca26f614d1",
   "metadata": {},
   "source": [
    "Some of the commonly used libraries used by Data Scientists include:\n",
    "- python\n",
    "1. pandas       \n",
    "2. numpy        \n",
    "3. matplotlib   \n",
    "4. tensorflow   \n",
    "5. keras        \n",
    "6. scikit learn \n",
    "7. nltk         \n",
    "- R\n",
    "1. caret    \n",
    "2. ggplot   \n",
    "3. dplyr    \n",
    "4. plotly   \n",
    "5. stringer "
   ]
  },
  {
   "cell_type": "markdown",
   "id": "9d12e14d-f3fc-4b9b-a8b8-d452f2bc7ce5",
   "metadata": {},
   "source": [
    "\n",
    "|Data Scince Toosl|\n",
    "|-|\n",
    "|Google Colap|,\n",
    "|Watson Studio|,\n",
    "|Jupyter Lab|,\n",
    "|Git Hub|,\n",
    "|jupyter notebook|\n",
    "\n"
   ]
  },
  {
   "cell_type": "markdown",
   "id": "24c65742-a72e-4a60-8a7f-f16be58e1bf5",
   "metadata": {},
   "source": [
    "### Below are a few examples of evaluating arithmetic expressions in Python.\n"
   ]
  },
  {
   "cell_type": "markdown",
   "id": "5a89a0b1-38a6-4dea-a1ca-a536123c2337",
   "metadata": {},
   "source": [
    "1. (+) for addetion --> 1 + 1 = 2\n",
    "1. (-) for subtratcion --> 1 - 1 = 0\n",
    "1. (*) for multiplication --> 1 * 1 = 1 \n",
    "1. (/) for devision --> 1 / 1 = 1 \n",
    "1. (**) for exponential --> 1 ** 1 = 1 \n",
    "1. (%) for modules division --> 1 % 1 = 1 "
   ]
  },
  {
   "cell_type": "markdown",
   "id": "c3b7286c-6f06-4396-9f21-79224193fcf6",
   "metadata": {},
   "source": [
    "This a simple arithmetic expression to multiply then add integers"
   ]
  },
  {
   "cell_type": "code",
   "execution_count": 1,
   "id": "d9b881d4-d8ed-44eb-9b9a-89b0f2bd7a51",
   "metadata": {},
   "outputs": [
    {
     "data": {
      "text/plain": [
       "17"
      ]
     },
     "execution_count": 1,
     "metadata": {},
     "output_type": "execute_result"
    }
   ],
   "source": [
    "(3 * 4) + 5"
   ]
  },
  {
   "cell_type": "markdown",
   "id": "f6bffbc9-0fc6-454e-9afa-094f718b9cd5",
   "metadata": {},
   "source": [
    "this will converts 200 minutes to houres by dividing by 60"
   ]
  },
  {
   "cell_type": "code",
   "execution_count": 3,
   "id": "7cdd5140-e5c4-4113-9a05-87990dd1a2aa",
   "metadata": {},
   "outputs": [
    {
     "data": {
      "text/plain": [
       "3.3333333333333335"
      ]
     },
     "execution_count": 3,
     "metadata": {},
     "output_type": "execute_result"
    }
   ],
   "source": [
    "200 / 60"
   ]
  },
  {
   "cell_type": "markdown",
   "id": "480fb33f-3729-4242-b699-998509d2fe36",
   "metadata": {},
   "source": [
    "## author\n",
    "Abdelghany Mohamed Aref"
   ]
  }
 ],
 "metadata": {
  "kernelspec": {
   "display_name": "Python 3 (ipykernel)",
   "language": "python",
   "name": "python3"
  },
  "language_info": {
   "codemirror_mode": {
    "name": "ipython",
    "version": 3
   },
   "file_extension": ".py",
   "mimetype": "text/x-python",
   "name": "python",
   "nbconvert_exporter": "python",
   "pygments_lexer": "ipython3",
   "version": "3.10.6"
  }
 },
 "nbformat": 4,
 "nbformat_minor": 5
}
